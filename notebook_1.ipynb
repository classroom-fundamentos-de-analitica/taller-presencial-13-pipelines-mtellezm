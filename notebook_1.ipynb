{
 "cells": [
  {
   "cell_type": "code",
   "execution_count": 7,
   "metadata": {},
   "outputs": [],
   "source": [
    "##\n",
    "## APROXIMACIÓN TIPICA\n",
    "##\n",
    "\n",
    "def train_estimator():\n",
    "    import pandas as pd\n",
    "    from sklearn.feature_extraction.text import TfidfTransformer\n",
    "    from sklearn.linear_model import LogisticRegression\n",
    "    from sklearn.model_selection import train_test_split\n",
    "    from sklearn.pipeline import Pipeline\n",
    "    from sklearn.metrics import balanced_accuracy_score\n",
    "    from sklearn.feature_extraction.text import CountVectorizer\n",
    "    from sklearn.metrics import accuracy_score, balanced_accuracy_score\n",
    "    # import os\n",
    "    import pickle\n",
    "\n",
    "\n",
    "\n",
    "    "
   ]
  },
  {
   "cell_type": "code",
   "execution_count": 6,
   "metadata": {},
   "outputs": [],
   "source": [
    "import pandas as pd\n",
    "from sklearn.model_selection import train_test_split\n",
    "#\n",
    "# Manejo de la data\n",
    "#\n",
    "dataframe = pd.read_csv(\n",
    "    \"sentences.csv.zip\",\n",
    "    index_col=False,\n",
    "    compression=\"zip\",\n",
    ")\n",
    "\n",
    "data = dataframe.phrase\n",
    "target = dataframe.target\n",
    "   \n",
    "X_train, X_test, y_train, y_test = train_test_split(\n",
    "    data,\n",
    "    target,\n",
    "    test_size=0.3,\n",
    "    shuffle=False,\n",
    ")\n"
   ]
  },
  {
   "cell_type": "code",
   "execution_count": 9,
   "metadata": {},
   "outputs": [],
   "source": [
    "from sklearn.feature_extraction.text import CountVectorizer\n",
    "from sklearn.feature_extraction.text import TfidfTransformer\n",
    "from sklearn.pipeline import Pipeline\n",
    "from sklearn.linear_model import LogisticRegression\n",
    "import pickle\n",
    "#\n",
    "# Modelo de regresión logística\n",
    "#\n",
    "vectorizer = CountVectorizer(\n",
    "    lowercase=True,\n",
    "    analyzer=\"word\",\n",
    "    token_pattern=r\"\\b[a-zA-Z]\\w+\\b\",\n",
    "    stop_words=\"english\",\n",
    ")\n",
    "\n",
    "transformer = TfidfTransformer()\n",
    "\n",
    "lr_estimator = Pipeline(\n",
    "    steps=[\n",
    "        (\"vectorizer\", vectorizer),\n",
    "        (\"transformer\", transformer),\n",
    "        (\"estimator\", LogisticRegression(max_iter=1000)),\n",
    "    ],\n",
    "    verbose=False,\n",
    "    )\n",
    "\n",
    "lr_estimator.fit(X_train, y_train)\n",
    "\n",
    "with open(\"estimator.pickle\", \"wb\") as file:\n",
    "    pickle.dump(lr_estimator, file)\n",
    "\n",
    "train_estimator()\n"
   ]
  },
  {
   "cell_type": "code",
   "execution_count": 11,
   "metadata": {},
   "outputs": [
    {
     "data": {
      "text/plain": [
       "array(['neutral', 'positive', 'positive', ..., 'neutral', 'positive',\n",
       "       'neutral'], dtype=object)"
      ]
     },
     "execution_count": 11,
     "metadata": {},
     "output_type": "execute_result"
    }
   ],
   "source": [
    "def use_estimator():\n",
    "\n",
    "    import pickle\n",
    "\n",
    "    import pandas as pd\n",
    "\n",
    "    dataframe = pd.read_csv(\n",
    "        \"sentences.csv.zip\",\n",
    "        index_col=False,\n",
    "        compression=\"zip\",\n",
    "    )\n",
    "\n",
    "    data = dataframe.phrase\n",
    "\n",
    "    with open(\"estimator.pickle\", \"rb\") as file:\n",
    "        estimator = pickle.load(file)\n",
    "\n",
    "    prediction = estimator.predict(data)\n",
    "\n",
    "    return prediction\n",
    "\n",
    "use_estimator()"
   ]
  }
 ],
 "metadata": {
  "kernelspec": {
   "display_name": ".venv",
   "language": "python",
   "name": "python3"
  },
  "language_info": {
   "codemirror_mode": {
    "name": "ipython",
    "version": 3
   },
   "file_extension": ".py",
   "mimetype": "text/x-python",
   "name": "python",
   "nbconvert_exporter": "python",
   "pygments_lexer": "ipython3",
   "version": "3.10.12"
  }
 },
 "nbformat": 4,
 "nbformat_minor": 2
}
